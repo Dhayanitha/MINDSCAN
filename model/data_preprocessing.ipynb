{
 "cells": [
  {
   "cell_type": "code",
   "execution_count": 203,
   "metadata": {},
   "outputs": [],
   "source": [
    "import pandas as pd \n"
   ]
  },
  {
   "cell_type": "code",
   "execution_count": 204,
   "metadata": {},
   "outputs": [],
   "source": [
    "df = pd.read_csv(r'C:\\userspace\\daya\\python\\proj\\Dataset-Mental-Disorders.csv')\n"
   ]
  },
  {
   "cell_type": "code",
   "execution_count": 205,
   "metadata": {},
   "outputs": [],
   "source": [
    "df.rename(columns={'Optimisim': 'Optimism'}, inplace=True)\n",
    "df.rename(columns={'Sleep dissorder': 'Sleep disorder'}, inplace=True)\n",
    "df.rename(columns={'Anorxia': 'Anorexia'}, inplace=True)\n"
   ]
  },
  {
   "cell_type": "code",
   "execution_count": 206,
   "metadata": {},
   "outputs": [
    {
     "data": {
      "text/html": [
       "<div>\n",
       "<style scoped>\n",
       "    .dataframe tbody tr th:only-of-type {\n",
       "        vertical-align: middle;\n",
       "    }\n",
       "\n",
       "    .dataframe tbody tr th {\n",
       "        vertical-align: top;\n",
       "    }\n",
       "\n",
       "    .dataframe thead th {\n",
       "        text-align: right;\n",
       "    }\n",
       "</style>\n",
       "<table border=\"1\" class=\"dataframe\">\n",
       "  <thead>\n",
       "    <tr style=\"text-align: right;\">\n",
       "      <th></th>\n",
       "      <th>Patient Number</th>\n",
       "      <th>Sadness</th>\n",
       "      <th>Euphoric</th>\n",
       "      <th>Exhausted</th>\n",
       "      <th>Sleep disorder</th>\n",
       "      <th>Mood Swing</th>\n",
       "      <th>Suicidal thoughts</th>\n",
       "      <th>Anorexia</th>\n",
       "      <th>Authority Respect</th>\n",
       "      <th>Try-Explanation</th>\n",
       "      <th>Aggressive Response</th>\n",
       "      <th>Ignore &amp; Move-On</th>\n",
       "      <th>Nervous Break-down</th>\n",
       "      <th>Admit Mistakes</th>\n",
       "      <th>Overthinking</th>\n",
       "      <th>Sexual Activity</th>\n",
       "      <th>Concentration</th>\n",
       "      <th>Optimism</th>\n",
       "      <th>Expert Diagnose</th>\n",
       "    </tr>\n",
       "  </thead>\n",
       "  <tbody>\n",
       "    <tr>\n",
       "      <th>0</th>\n",
       "      <td>Patiant-01</td>\n",
       "      <td>Usually</td>\n",
       "      <td>Seldom</td>\n",
       "      <td>Sometimes</td>\n",
       "      <td>Sometimes</td>\n",
       "      <td>YES</td>\n",
       "      <td>YES</td>\n",
       "      <td>NO</td>\n",
       "      <td>NO</td>\n",
       "      <td>YES</td>\n",
       "      <td>NO</td>\n",
       "      <td>NO</td>\n",
       "      <td>YES</td>\n",
       "      <td>YES</td>\n",
       "      <td>YES</td>\n",
       "      <td>3 From 10</td>\n",
       "      <td>3 From 10</td>\n",
       "      <td>4 From 10</td>\n",
       "      <td>Bipolar Type-2</td>\n",
       "    </tr>\n",
       "    <tr>\n",
       "      <th>1</th>\n",
       "      <td>Patiant-02</td>\n",
       "      <td>Usually</td>\n",
       "      <td>Seldom</td>\n",
       "      <td>Usually</td>\n",
       "      <td>Sometimes</td>\n",
       "      <td>NO</td>\n",
       "      <td>YES</td>\n",
       "      <td>NO</td>\n",
       "      <td>NO</td>\n",
       "      <td>NO</td>\n",
       "      <td>NO</td>\n",
       "      <td>NO</td>\n",
       "      <td>NO</td>\n",
       "      <td>NO</td>\n",
       "      <td>NO</td>\n",
       "      <td>4 From 10</td>\n",
       "      <td>2 From 10</td>\n",
       "      <td>5 From 10</td>\n",
       "      <td>Depression</td>\n",
       "    </tr>\n",
       "  </tbody>\n",
       "</table>\n",
       "</div>"
      ],
      "text/plain": [
       "  Patient Number  Sadness Euphoric  Exhausted Sleep disorder Mood Swing  \\\n",
       "0     Patiant-01  Usually   Seldom  Sometimes      Sometimes        YES   \n",
       "1     Patiant-02  Usually   Seldom    Usually      Sometimes         NO   \n",
       "\n",
       "  Suicidal thoughts Anorexia Authority Respect Try-Explanation  \\\n",
       "0              YES        NO                NO             YES   \n",
       "1               YES       NO                NO              NO   \n",
       "\n",
       "  Aggressive Response Ignore & Move-On Nervous Break-down Admit Mistakes  \\\n",
       "0                  NO               NO                YES            YES   \n",
       "1                  NO               NO                 NO             NO   \n",
       "\n",
       "  Overthinking Sexual Activity Concentration   Optimism Expert Diagnose  \n",
       "0          YES       3 From 10     3 From 10  4 From 10  Bipolar Type-2  \n",
       "1           NO       4 From 10     2 From 10  5 From 10      Depression  "
      ]
     },
     "execution_count": 206,
     "metadata": {},
     "output_type": "execute_result"
    }
   ],
   "source": [
    "df.head(2)"
   ]
  },
  {
   "cell_type": "code",
   "execution_count": 207,
   "metadata": {},
   "outputs": [
    {
     "name": "stdout",
     "output_type": "stream",
     "text": [
      "  Patient Number    Sadness    Euphoric  Exhausted Sleep disorder Mood Swing  \\\n",
      "0     Patiant-01    Usually      Seldom  Sometimes      Sometimes        YES   \n",
      "1     Patiant-02    Usually      Seldom    Usually      Sometimes         NO   \n",
      "2     Patiant-03  Sometimes  Most-Often  Sometimes      Sometimes        YES   \n",
      "3     Patiant-04    Usually      Seldom    Usually     Most-Often        YES   \n",
      "4     Patiant-05    Usually     Usually  Sometimes      Sometimes         NO   \n",
      "\n",
      "  Suicidal thoughts Anorexia Authority Respect Try-Explanation  \\\n",
      "0              YES        NO                NO             YES   \n",
      "1               YES       NO                NO              NO   \n",
      "2                NO       NO                NO             YES   \n",
      "3               YES      YES                NO             YES   \n",
      "4                NO       NO                NO              NO   \n",
      "\n",
      "  Aggressive Response Ignore & Move-On Nervous Break-down Admit Mistakes  \\\n",
      "0                  NO               NO                YES            YES   \n",
      "1                  NO               NO                 NO             NO   \n",
      "2                 YES               NO                YES            YES   \n",
      "3                  NO               NO                 NO             NO   \n",
      "4                  NO               NO                YES            YES   \n",
      "\n",
      "  Overthinking Sexual Activity Concentration   Optimism Expert Diagnose  \n",
      "0          YES       3 From 10     3 From 10  4 From 10  Bipolar Type-2  \n",
      "1           NO       4 From 10     2 From 10  5 From 10      Depression  \n",
      "2           NO       6 From 10     5 From 10  7 From 10  Bipolar Type-1  \n",
      "3           NO       3 From 10     2 From 10  2 From 10  Bipolar Type-2  \n",
      "4          YES       5 From 10     5 From 10  6 From 10          Normal  \n"
     ]
    }
   ],
   "source": [
    "df_copy = df.copy()\n",
    "print(df_copy.head())\n"
   ]
  },
  {
   "cell_type": "markdown",
   "metadata": {},
   "source": [
    "### Values before preprocessing "
   ]
  },
  {
   "cell_type": "code",
   "execution_count": 217,
   "metadata": {},
   "outputs": [
    {
     "name": "stdout",
     "output_type": "stream",
     "text": [
      "Unique values in Patient Number: ['Patiant-01' 'Patiant-02' 'Patiant-03' 'Patiant-04' 'Patiant-05'\n",
      " 'Patiant-06' 'Patiant-07' 'Patiant-08' 'Patiant-09' 'Patiant-10'\n",
      " 'Patiant-11' 'Patiant-12' 'Patiant-13' 'Patiant-14' 'Patiant-15'\n",
      " 'Patiant-16' 'Patiant-17' 'Patiant-18' 'Patiant-19' 'Patiant-20'\n",
      " 'Patiant-21' 'Patiant-22' 'Patiant-23' 'Patiant-24' 'Patiant-25'\n",
      " 'Patiant-26' 'Patiant-27' 'Patiant-28' 'Patiant-29' 'Patiant-30'\n",
      " 'Patiant-31' 'Patiant-32' 'Patiant-33' 'Patiant-34' 'Patiant-35'\n",
      " 'Patiant-36' 'Patiant-37' 'Patiant-38' 'Patiant-39' 'Patiant-40'\n",
      " 'Patiant-41' 'Patiant-42' 'Patiant-43' 'Patiant-44' 'Patiant-45'\n",
      " 'Patiant-46' 'Patiant-47' 'Patiant-48' 'Patiant-49' 'Patiant-50'\n",
      " 'Patiant-51' 'Patiant-52' 'Patiant-53' 'Patiant-54' 'Patiant-55'\n",
      " 'Patiant-56' 'Patiant-57' 'Patiant-58' 'Patiant-59' 'Patiant-60'\n",
      " 'Patiant-61' 'Patiant-62' 'Patiant-63' 'Patiant-64' 'Patiant-65'\n",
      " 'Patiant-66' 'Patiant-67' 'Patiant-68' 'Patiant-69' 'Patiant-70'\n",
      " 'Patiant-71' 'Patiant-72' 'Patiant-73' 'Patiant-74' 'Patiant-75'\n",
      " 'Patiant-76' 'Patiant-77' 'Patiant-78' 'Patiant-79' 'Patiant-80'\n",
      " 'Patiant-81' 'Patiant-82' 'Patiant-83' 'Patiant-84' 'Patiant-85'\n",
      " 'Patiant-86' 'Patiant-87' 'Patiant-88' 'Patiant-89' 'Patiant-90'\n",
      " 'Patiant-91' 'Patiant-92' 'Patiant-93' 'Patiant-94' 'Patiant-95'\n",
      " 'Patiant-96' 'Patiant-97' 'Patiant-98' 'Patiant-99' 'Patiant-100'\n",
      " 'Patiant-101' 'Patiant-102' 'Patiant-103' 'Patiant-104' 'Patiant-105'\n",
      " 'Patiant-106' 'Patiant-107' 'Patiant-108' 'Patiant-109' 'Patiant-110'\n",
      " 'Patiant-111' 'Patiant-112' 'Patiant-113' 'Patiant-114' 'Patiant-115'\n",
      " 'Patiant-116' 'Patiant-117' 'Patiant-118' 'Patiant-119' 'Patiant-120']\n",
      "Unique values in Sadness: ['Usually' 'Sometimes' 'Seldom' 'Most-Often']\n",
      "Unique values in Euphoric: ['Seldom' 'Most-Often' 'Usually' 'Sometimes']\n",
      "Unique values in Exhausted: ['Sometimes' 'Usually' 'Seldom' 'Most-Often']\n",
      "Unique values in Sleep disorder: ['Sometimes' 'Most-Often' 'Usually' 'Seldom']\n",
      "Unique values in Mood Swing: ['YES' 'NO']\n",
      "Unique values in Suicidal thoughts: ['YES ' 'YES' 'NO']\n",
      "Unique values in Anorexia: ['NO' 'YES']\n",
      "Unique values in Authority Respect: ['NO' 'YES']\n",
      "Unique values in Try-Explanation: ['YES' 'NO']\n",
      "Unique values in Aggressive Response: ['NO' 'YES']\n",
      "Unique values in Ignore & Move-On: ['NO' 'YES']\n",
      "Unique values in Nervous Break-down: ['YES' 'NO']\n",
      "Unique values in Admit Mistakes: ['YES' 'NO']\n",
      "Unique values in Overthinking: ['YES' 'NO']\n",
      "Unique values in Sexual Activity: ['3 From 10' '4 From 10' '6 From 10' '5 From 10' '7 From 10' '8 From 10'\n",
      " '9 From 10' '2 From 10' '1 From 10']\n",
      "Unique values in Concentration: ['3 From 10' '2 From 10' '5 From 10' '4 From 10' '7 From 10' '6 From 10'\n",
      " '1 From 10' '8 From 10']\n",
      "Unique values in Optimism: ['4 From 10' '5 From 10' '7 From 10' '2 From 10' '6 From 10' '9 From 10'\n",
      " '3 From 10' '8 From 10' '1 From 10']\n",
      "Unique values in Expert Diagnose: ['Bipolar Type-2' 'Depression' 'Bipolar Type-1' 'Normal']\n"
     ]
    }
   ],
   "source": [
    "\n",
    "for col in df.columns:\n",
    "    unique_values = df[col].unique()\n",
    "    print(f\"Unique values in {col}: {unique_values}\")\n"
   ]
  },
  {
   "cell_type": "markdown",
   "metadata": {},
   "source": [
    "## Mapping Columns"
   ]
  },
  {
   "cell_type": "markdown",
   "metadata": {},
   "source": [
    "### Mapping Sadness, Euphoric, Exhausted, Sleep disorder"
   ]
  },
  {
   "cell_type": "code",
   "execution_count": 208,
   "metadata": {},
   "outputs": [
    {
     "name": "stdout",
     "output_type": "stream",
     "text": [
      "  Patient Number  Sadness  Euphoric  Exhausted  Sleep disorder Mood Swing  \\\n",
      "0     Patiant-01        0         2          1               1        YES   \n",
      "1     Patiant-02        0         2          0               1         NO   \n",
      "2     Patiant-03        1         3          1               1        YES   \n",
      "3     Patiant-04        0         2          0               3        YES   \n",
      "4     Patiant-05        0         0          1               1         NO   \n",
      "\n",
      "  Suicidal thoughts Anorexia Authority Respect Try-Explanation  \\\n",
      "0              YES        NO                NO             YES   \n",
      "1               YES       NO                NO              NO   \n",
      "2                NO       NO                NO             YES   \n",
      "3               YES      YES                NO             YES   \n",
      "4                NO       NO                NO              NO   \n",
      "\n",
      "  Aggressive Response Ignore & Move-On Nervous Break-down Admit Mistakes  \\\n",
      "0                  NO               NO                YES            YES   \n",
      "1                  NO               NO                 NO             NO   \n",
      "2                 YES               NO                YES            YES   \n",
      "3                  NO               NO                 NO             NO   \n",
      "4                  NO               NO                YES            YES   \n",
      "\n",
      "  Overthinking Sexual Activity Concentration   Optimism Expert Diagnose  \n",
      "0          YES       3 From 10     3 From 10  4 From 10  Bipolar Type-2  \n",
      "1           NO       4 From 10     2 From 10  5 From 10      Depression  \n",
      "2           NO       6 From 10     5 From 10  7 From 10  Bipolar Type-1  \n",
      "3           NO       3 From 10     2 From 10  2 From 10  Bipolar Type-2  \n",
      "4          YES       5 From 10     5 From 10  6 From 10          Normal  \n"
     ]
    }
   ],
   "source": [
    "mapping = {\n",
    "    'Usually': 0,\n",
    "    'Sometimes': 1,\n",
    "    'Seldom': 2,\n",
    "    'Most-Often': 3\n",
    "}\n",
    "\n",
    "# Map the categorical values to integers for each column\n",
    "df_copy['Sadness'] = df_copy['Sadness'].map(mapping)\n",
    "df_copy['Euphoric'] = df_copy['Euphoric'].map(mapping)\n",
    "df_copy['Exhausted'] = df_copy['Exhausted'].map(mapping)\n",
    "df_copy['Sleep disorder'] = df_copy['Sleep disorder'].map(mapping)\n",
    "\n",
    "# Verify the mapping\n",
    "print(df_copy.head())\n"
   ]
  },
  {
   "cell_type": "markdown",
   "metadata": {},
   "source": [
    "#### Mapping MoodSwing, Suicidalthoughts, Anorexia, AuthorityRespect,Try-Explanation, AggressiveResponse, Ignore&Move-On, NervousBreak-down,AdmitMistakes, Overthinking "
   ]
  },
  {
   "cell_type": "code",
   "execution_count": 209,
   "metadata": {},
   "outputs": [
    {
     "name": "stdout",
     "output_type": "stream",
     "text": [
      "  Patient Number  Sadness  Euphoric  Exhausted  Sleep disorder  Mood Swing  \\\n",
      "0     Patiant-01        0         2          1               1           1   \n",
      "1     Patiant-02        0         2          0               1           0   \n",
      "2     Patiant-03        1         3          1               1           1   \n",
      "3     Patiant-04        0         2          0               3           1   \n",
      "4     Patiant-05        0         0          1               1           0   \n",
      "\n",
      "   Suicidal thoughts  Anorexia  Authority Respect  Try-Explanation  \\\n",
      "0                  1         0                  0                1   \n",
      "1                  1         0                  0                0   \n",
      "2                  0         0                  0                1   \n",
      "3                  1         1                  0                1   \n",
      "4                  0         0                  0                0   \n",
      "\n",
      "   Aggressive Response  Ignore & Move-On  Nervous Break-down  Admit Mistakes  \\\n",
      "0                    0                 0                   1               1   \n",
      "1                    0                 0                   0               0   \n",
      "2                    1                 0                   1               1   \n",
      "3                    0                 0                   0               0   \n",
      "4                    0                 0                   1               1   \n",
      "\n",
      "   Overthinking Sexual Activity Concentration   Optimism Expert Diagnose  \n",
      "0             1       3 From 10     3 From 10  4 From 10  Bipolar Type-2  \n",
      "1             0       4 From 10     2 From 10  5 From 10      Depression  \n",
      "2             0       6 From 10     5 From 10  7 From 10  Bipolar Type-1  \n",
      "3             0       3 From 10     2 From 10  2 From 10  Bipolar Type-2  \n",
      "4             1       5 From 10     5 From 10  6 From 10          Normal  \n"
     ]
    }
   ],
   "source": [
    "\n",
    "# List of columns to map\n",
    "columns_to_map = ['Mood Swing', 'Suicidal thoughts', 'Anorexia', 'Authority Respect', \n",
    "                  'Try-Explanation', 'Aggressive Response', 'Ignore & Move-On', \n",
    "                  'Nervous Break-down', 'Admit Mistakes', 'Overthinking']\n",
    "\n",
    "import pandas as pd\n",
    "\n",
    "def map_yes_no_to_binary(df, columns):\n",
    "    mapping = {'YES': 1, 'YES ': 1, 'NO': 0}\n",
    "    for col in columns:\n",
    "        # Map 'Yes' and 'No' to 1 and 0 respectively\n",
    "        df[col] = df[col].map(mapping)\n",
    "        # Fill NaN values with 0\n",
    "        df[col].fillna(0, inplace=True)\n",
    "        # Convert the column to integer type\n",
    "        df[col] = df[col].astype(int)\n",
    "    return df\n",
    "\n",
    "# Call the function to map 'Yes' and 'No' to 1 and 0 respectively\n",
    "df_mapped = map_yes_no_to_binary(df_copy.copy(), columns_to_map)\n",
    "\n",
    "# Check the DataFrame after mapping\n",
    "print(df_mapped.head())\n",
    "\n"
   ]
  },
  {
   "cell_type": "markdown",
   "metadata": {},
   "source": [
    "#### Mapping Sexual Activity, Concentration Optimism"
   ]
  },
  {
   "cell_type": "code",
   "execution_count": 210,
   "metadata": {},
   "outputs": [
    {
     "name": "stdout",
     "output_type": "stream",
     "text": [
      "  Patient Number  Sadness  Euphoric  Exhausted  Sleep disorder  Mood Swing  \\\n",
      "0     Patiant-01        0         2          1               1           1   \n",
      "1     Patiant-02        0         2          0               1           0   \n",
      "2     Patiant-03        1         3          1               1           1   \n",
      "3     Patiant-04        0         2          0               3           1   \n",
      "4     Patiant-05        0         0          1               1           0   \n",
      "\n",
      "   Suicidal thoughts  Anorexia  Authority Respect  Try-Explanation  \\\n",
      "0                  1         0                  0                1   \n",
      "1                  1         0                  0                0   \n",
      "2                  0         0                  0                1   \n",
      "3                  1         1                  0                1   \n",
      "4                  0         0                  0                0   \n",
      "\n",
      "   Aggressive Response  Ignore & Move-On  Nervous Break-down  Admit Mistakes  \\\n",
      "0                    0                 0                   1               1   \n",
      "1                    0                 0                   0               0   \n",
      "2                    1                 0                   1               1   \n",
      "3                    0                 0                   0               0   \n",
      "4                    0                 0                   1               1   \n",
      "\n",
      "   Overthinking  Sexual Activity  Concentration  Optimism Expert Diagnose  \n",
      "0             1                3              3         4  Bipolar Type-2  \n",
      "1             0                4              2         5      Depression  \n",
      "2             0                6              5         7  Bipolar Type-1  \n",
      "3             0                3              2         2  Bipolar Type-2  \n",
      "4             1                5              5         6          Normal  \n"
     ]
    }
   ],
   "source": [
    "def map_categorical_to_integer(df, columns):\n",
    "    for col in columns:\n",
    "        # Extract the numerical value from the string\n",
    "        df[col] = df[col].str.extract('(\\d+)').astype(float)\n",
    "        # Fill NaN values with 0\n",
    "        df[col].fillna(0, inplace=True)\n",
    "        # Convert the column to integer type\n",
    "        df[col] = df[col].astype(int)\n",
    "    return df\n",
    "\n",
    "# Define the list of columns to map\n",
    "columns_to_map = ['Sexual Activity', 'Concentration', 'Optimism']\n",
    "\n",
    "# Call the function to map categorical values to integers\n",
    "df_mapped = map_categorical_to_integer(df_mapped.copy(), columns_to_map)\n",
    "\n",
    "# Check the DataFrame after mapping\n",
    "print(df_mapped.head())\n"
   ]
  },
  {
   "cell_type": "markdown",
   "metadata": {},
   "source": [
    "#### Mapping Expert Diagnose"
   ]
  },
  {
   "cell_type": "code",
   "execution_count": 211,
   "metadata": {},
   "outputs": [
    {
     "name": "stdout",
     "output_type": "stream",
     "text": [
      "  Patient Number  Sadness  Euphoric  Exhausted  Sleep disorder  Mood Swing  \\\n",
      "0     Patiant-01        0         2          1               1           1   \n",
      "1     Patiant-02        0         2          0               1           0   \n",
      "2     Patiant-03        1         3          1               1           1   \n",
      "3     Patiant-04        0         2          0               3           1   \n",
      "4     Patiant-05        0         0          1               1           0   \n",
      "\n",
      "   Suicidal thoughts  Anorexia  Authority Respect  Try-Explanation  \\\n",
      "0                  1         0                  0                1   \n",
      "1                  1         0                  0                0   \n",
      "2                  0         0                  0                1   \n",
      "3                  1         1                  0                1   \n",
      "4                  0         0                  0                0   \n",
      "\n",
      "   Aggressive Response  Ignore & Move-On  Nervous Break-down  Admit Mistakes  \\\n",
      "0                    0                 0                   1               1   \n",
      "1                    0                 0                   0               0   \n",
      "2                    1                 0                   1               1   \n",
      "3                    0                 0                   0               0   \n",
      "4                    0                 0                   1               1   \n",
      "\n",
      "   Overthinking  Sexual Activity  Concentration  Optimism  Expert Diagnose  \n",
      "0             1                3              3         4                2  \n",
      "1             0                4              2         5                0  \n",
      "2             0                6              5         7                1  \n",
      "3             0                3              2         2                2  \n",
      "4             1                5              5         6                3  \n"
     ]
    }
   ],
   "source": [
    "def map_diagnosis_to_integer(df):\n",
    "    mapping = {'Depression': 0, 'Bipolar Type-1': 1, 'Bipolar Type-2': 2, 'Normal': 3}\n",
    "    df['Expert Diagnose'] = df['Expert Diagnose'].map(mapping)\n",
    "    return df\n",
    "\n",
    "# Call the function to map categorical values to integers\n",
    "df_mapped = map_diagnosis_to_integer(df_mapped.copy())\n",
    "\n",
    "# Check the DataFrame after mapping\n",
    "print(df_mapped.head())\n"
   ]
  },
  {
   "cell_type": "markdown",
   "metadata": {},
   "source": [
    "#### Dropping the un-wanted  columns "
   ]
  },
  {
   "cell_type": "code",
   "execution_count": 213,
   "metadata": {},
   "outputs": [
    {
     "name": "stdout",
     "output_type": "stream",
     "text": [
      "   Sadness  Euphoric  Exhausted  Sleep disorder  Mood Swing  \\\n",
      "0        0         2          1               1           1   \n",
      "1        0         2          0               1           0   \n",
      "2        1         3          1               1           1   \n",
      "3        0         2          0               3           1   \n",
      "4        0         0          1               1           0   \n",
      "\n",
      "   Suicidal thoughts  Anorexia  Authority Respect  Try-Explanation  \\\n",
      "0                  1         0                  0                1   \n",
      "1                  1         0                  0                0   \n",
      "2                  0         0                  0                1   \n",
      "3                  1         1                  0                1   \n",
      "4                  0         0                  0                0   \n",
      "\n",
      "   Aggressive Response  Ignore & Move-On  Nervous Break-down  Admit Mistakes  \\\n",
      "0                    0                 0                   1               1   \n",
      "1                    0                 0                   0               0   \n",
      "2                    1                 0                   1               1   \n",
      "3                    0                 0                   0               0   \n",
      "4                    0                 0                   1               1   \n",
      "\n",
      "   Overthinking  Sexual Activity  Concentration  Optimism  Expert Diagnose  \n",
      "0             1                3              3         4                2  \n",
      "1             0                4              2         5                0  \n",
      "2             0                6              5         7                1  \n",
      "3             0                3              2         2                2  \n",
      "4             1                5              5         6                3  \n"
     ]
    }
   ],
   "source": [
    "# Drop the 'Patient Number' column from df_mapped\n",
    "df_mapped.drop(columns=['Patient Number'], inplace=True)\n",
    "\n",
    "# Print the head of the DataFrame to verify the changes\n",
    "print(df_mapped.head())\n"
   ]
  },
  {
   "cell_type": "markdown",
   "metadata": {},
   "source": [
    "#### Unique values after pre-processing "
   ]
  },
  {
   "cell_type": "code",
   "execution_count": 214,
   "metadata": {},
   "outputs": [
    {
     "name": "stdout",
     "output_type": "stream",
     "text": [
      "Unique values in Sadness: [0 1 2 3]\n",
      "Unique values in Euphoric: [2 3 0 1]\n",
      "Unique values in Exhausted: [1 0 2 3]\n",
      "Unique values in Sleep disorder: [1 3 0 2]\n",
      "Unique values in Mood Swing: [1 0]\n",
      "Unique values in Suicidal thoughts: [1 0]\n",
      "Unique values in Anorexia: [0 1]\n",
      "Unique values in Authority Respect: [0 1]\n",
      "Unique values in Try-Explanation: [1 0]\n",
      "Unique values in Aggressive Response: [0 1]\n",
      "Unique values in Ignore & Move-On: [0 1]\n",
      "Unique values in Nervous Break-down: [1 0]\n",
      "Unique values in Admit Mistakes: [1 0]\n",
      "Unique values in Overthinking: [1 0]\n",
      "Unique values in Sexual Activity: [3 4 6 5 7 8 9 2 1]\n",
      "Unique values in Concentration: [3 2 5 4 7 6 1 8]\n",
      "Unique values in Optimism: [4 5 7 2 6 9 3 8 1]\n",
      "Unique values in Expert Diagnose: [2 0 1 3]\n"
     ]
    }
   ],
   "source": [
    "# Iterate over each column in df_mapped\n",
    "for col in df_mapped.columns:\n",
    "    # Print the column name and its unique values\n",
    "    print(f\"Unique values in {col}: {df_mapped[col].unique()}\")\n"
   ]
  },
  {
   "cell_type": "code",
   "execution_count": 218,
   "metadata": {},
   "outputs": [],
   "source": [
    "# Save DataFrame to CSV file\n",
    "df_mapped.to_csv(r'C:\\userspace\\daya\\python\\proj\\mapped_data.csv', index=False)\n"
   ]
  },
  {
   "cell_type": "code",
   "execution_count": null,
   "metadata": {},
   "outputs": [],
   "source": []
  }
 ],
 "metadata": {
  "kernelspec": {
   "display_name": "base",
   "language": "python",
   "name": "python3"
  },
  "language_info": {
   "codemirror_mode": {
    "name": "ipython",
    "version": 3
   },
   "file_extension": ".py",
   "mimetype": "text/x-python",
   "name": "python",
   "nbconvert_exporter": "python",
   "pygments_lexer": "ipython3",
   "version": "3.10.9"
  }
 },
 "nbformat": 4,
 "nbformat_minor": 2
}
